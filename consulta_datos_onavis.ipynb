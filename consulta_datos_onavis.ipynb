{
 "cells": [
  {
   "metadata": {},
   "cell_type": "markdown",
   "source": "### Revisión cifras para informe trimestral ONAVIS",
   "id": "6c0b612f664b2c54"
  },
  {
   "cell_type": "code",
   "id": "initial_id",
   "metadata": {
    "collapsed": true,
    "ExecuteTime": {
     "end_time": "2024-05-24T18:50:59.844587Z",
     "start_time": "2024-05-24T18:50:59.014377Z"
    }
   },
   "source": [
    "##Borrar datos del entorno\n",
    "rm(list=ls())\n",
    "\n",
    "#Se utiliza acman para instalar y cargar paquetes\n",
    "if(!require('pacman')) install.packages('pacman')\n",
    "pacman::p_load(tidyverse,janitor, httr,jsonlite)\n"
   ],
   "outputs": [
    {
     "name": "stderr",
     "output_type": "stream",
     "text": [
      "Loading required package: pacman\n",
      "\n"
     ]
    }
   ],
   "execution_count": 1
  },
  {
   "metadata": {
    "ExecuteTime": {
     "end_time": "2024-05-24T18:51:11.766433Z",
     "start_time": "2024-05-24T18:51:11.754908Z"
    }
   },
   "cell_type": "code",
   "source": [
    "#------------------ #Función para consultar la api\n",
    "\n",
    "consulta_api<-function(url){\n",
    "  r <- GET(url, timeout(10000))\n",
    "  df <- fromJSON(rawToChar(r$content))\n",
    "  return(df)\n",
    "}\n"
   ],
   "id": "6fe4df582e2ef2d9",
   "outputs": [],
   "execution_count": 2
  },
  {
   "metadata": {
    "ExecuteTime": {
     "end_time": "2024-05-24T18:51:24.374598Z",
     "start_time": "2024-05-24T18:51:24.361113Z"
    }
   },
   "cell_type": "code",
   "source": [
    "# Configura la opción de impresión para evitar notación científica y mostrar dos decimales\n",
    "options(scipen = 999, digits = 2)"
   ],
   "id": "83267ad14811024f",
   "outputs": [],
   "execution_count": 3
  },
  {
   "metadata": {},
   "cell_type": "markdown",
   "source": "### Fovissste",
   "id": "eb7ac15f0c7bf51f"
  },
  {
   "metadata": {
    "ExecuteTime": {
     "end_time": "2024-05-24T18:51:53.431157Z",
     "start_time": "2024-05-24T18:51:53.351507Z"
    }
   },
   "cell_type": "code",
   "source": [
    "\n",
    "\n",
    "urlfov<-\"https://sniiv.sedatu.gob.mx/api/CuboAPI/GetFOVISSSTE/2024,2024/0/0/esquema\"\n",
    "fovissste<-consulta_api(urlfov)\n",
    "str(fovissste)\n",
    "\n",
    "unique_organismos <- unique(fovissste$esquema)\n",
    "unique_organismos\n",
    "\n",
    "\n"
   ],
   "id": "47fab12231635de2",
   "outputs": [
    {
     "name": "stdout",
     "output_type": "stream",
     "text": [
      "'data.frame':\t5 obs. of  4 variables:\n",
      " $ año     : int  0 0 0 0 0\n",
      " $ esquema : chr  \"Tradicional\" \"Fovissste infonavit conyugal\" \"Pensionados\" \"Fovissste para todos\" ...\n",
      " $ acciones: int  6595 274 60 560 50\n",
      " $ monto   : num  6245012939 210717451 35646423 103475332 40588965\n"
     ]
    },
    {
     "data": {
      "text/html": [
       "<style>\n",
       ".list-inline {list-style: none; margin:0; padding: 0}\n",
       ".list-inline>li {display: inline-block}\n",
       ".list-inline>li:not(:last-child)::after {content: \"\\00b7\"; padding: 0 .5ex}\n",
       "</style>\n",
       "<ol class=list-inline><li>'Tradicional'</li><li>'Fovissste infonavit conyugal'</li><li>'Pensionados'</li><li>'Fovissste para todos'</li><li>'Individual fov-inf'</li></ol>\n"
      ],
      "text/markdown": "1. 'Tradicional'\n2. 'Fovissste infonavit conyugal'\n3. 'Pensionados'\n4. 'Fovissste para todos'\n5. 'Individual fov-inf'\n\n\n",
      "text/latex": "\\begin{enumerate*}\n\\item 'Tradicional'\n\\item 'Fovissste infonavit conyugal'\n\\item 'Pensionados'\n\\item 'Fovissste para todos'\n\\item 'Individual fov-inf'\n\\end{enumerate*}\n",
      "text/plain": [
       "[1] \"Tradicional\"                  \"Fovissste infonavit conyugal\"\n",
       "[3] \"Pensionados\"                  \"Fovissste para todos\"        \n",
       "[5] \"Individual fov-inf\"          "
      ]
     },
     "metadata": {},
     "output_type": "display_data"
    }
   ],
   "execution_count": 5
  },
  {
   "metadata": {
    "ExecuteTime": {
     "end_time": "2024-05-24T18:55:24.650250Z",
     "start_time": "2024-05-24T18:55:24.606899Z"
    }
   },
   "cell_type": "code",
   "source": [
    "fovissste %>%\n",
    "  group_by(esquema)%>%\n",
    "  select(acciones)%>%\n",
    "  janitor::adorn_totals()"
   ],
   "id": "803a85dcc92194ed",
   "outputs": [
    {
     "name": "stderr",
     "output_type": "stream",
     "text": [
      "\u001B[1m\u001B[22mAdding missing grouping variables: `esquema`\n"
     ]
    },
    {
     "data": {
      "text/html": [
       "<table class=\"dataframe\">\n",
       "<caption>A tabyl: 6 × 2</caption>\n",
       "<thead>\n",
       "\t<tr><th scope=col>esquema</th><th scope=col>acciones</th></tr>\n",
       "\t<tr><th scope=col>&lt;chr&gt;</th><th scope=col>&lt;int&gt;</th></tr>\n",
       "</thead>\n",
       "<tbody>\n",
       "\t<tr><td>Tradicional                 </td><td>6595</td></tr>\n",
       "\t<tr><td>Fovissste infonavit conyugal</td><td> 274</td></tr>\n",
       "\t<tr><td>Pensionados                 </td><td>  60</td></tr>\n",
       "\t<tr><td>Fovissste para todos        </td><td> 560</td></tr>\n",
       "\t<tr><td>Individual fov-inf          </td><td>  50</td></tr>\n",
       "\t<tr><td>Total                       </td><td>7539</td></tr>\n",
       "</tbody>\n",
       "</table>\n"
      ],
      "text/markdown": "\nA tabyl: 6 × 2\n\n| esquema &lt;chr&gt; | acciones &lt;int&gt; |\n|---|---|\n| Tradicional                  | 6595 |\n| Fovissste infonavit conyugal |  274 |\n| Pensionados                  |   60 |\n| Fovissste para todos         |  560 |\n| Individual fov-inf           |   50 |\n| Total                        | 7539 |\n\n",
      "text/latex": "A tabyl: 6 × 2\n\\begin{tabular}{ll}\n esquema & acciones\\\\\n <chr> & <int>\\\\\n\\hline\n\t Tradicional                  & 6595\\\\\n\t Fovissste infonavit conyugal &  274\\\\\n\t Pensionados                  &   60\\\\\n\t Fovissste para todos         &  560\\\\\n\t Individual fov-inf           &   50\\\\\n\t Total                        & 7539\\\\\n\\end{tabular}\n",
      "text/plain": [
       "  esquema                      acciones\n",
       "1 Tradicional                  6595    \n",
       "2 Fovissste infonavit conyugal  274    \n",
       "3 Pensionados                    60    \n",
       "4 Fovissste para todos          560    \n",
       "5 Individual fov-inf             50    \n",
       "6 Total                        7539    "
      ]
     },
     "metadata": {},
     "output_type": "display_data"
    }
   ],
   "execution_count": 13
  },
  {
   "metadata": {},
   "cell_type": "markdown",
   "source": "### Insus  ",
   "id": "6dc1ccfa46e0ce90"
  },
  {
   "metadata": {
    "ExecuteTime": {
     "end_time": "2024-05-24T18:53:12.256421Z",
     "start_time": "2024-05-24T18:53:12.193043Z"
    }
   },
   "cell_type": "code",
   "source": [
    "urlinsus<-\"https://sniiv.sedatu.gob.mx/api/CuboAPI/GetInsus/2024,2024/0/0/genero\"\n",
    "insus<-consulta_api(urlinsus)\n",
    "str(insus)"
   ],
   "id": "534b59d42f999294",
   "outputs": [
    {
     "name": "stdout",
     "output_type": "stream",
     "text": [
      "'data.frame':\t2 obs. of  4 variables:\n",
      " $ año     : int  0 0\n",
      " $ sexo    : chr  \"Hombre\" \"Mujer\"\n",
      " $ acciones: int  228 369\n",
      " $ monto   : int  3078000 4981500\n"
     ]
    }
   ],
   "execution_count": 7
  },
  {
   "metadata": {
    "ExecuteTime": {
     "end_time": "2024-05-24T18:53:31.770905Z",
     "start_time": "2024-05-24T18:53:31.746862Z"
    }
   },
   "cell_type": "code",
   "source": [
    "insus %>%\n",
    "  select(acciones) %>%\n",
    "  slice(1:2) %>%\n",
    "  summarise(total = sum(acciones))"
   ],
   "id": "add261e13b253e08",
   "outputs": [
    {
     "data": {
      "text/html": [
       "<table class=\"dataframe\">\n",
       "<caption>A data.frame: 1 × 1</caption>\n",
       "<thead>\n",
       "\t<tr><th scope=col>total</th></tr>\n",
       "\t<tr><th scope=col>&lt;int&gt;</th></tr>\n",
       "</thead>\n",
       "<tbody>\n",
       "\t<tr><td>597</td></tr>\n",
       "</tbody>\n",
       "</table>\n"
      ],
      "text/markdown": "\nA data.frame: 1 × 1\n\n| total &lt;int&gt; |\n|---|\n| 597 |\n\n",
      "text/latex": "A data.frame: 1 × 1\n\\begin{tabular}{l}\n total\\\\\n <int>\\\\\n\\hline\n\t 597\\\\\n\\end{tabular}\n",
      "text/plain": [
       "  total\n",
       "1 597  "
      ]
     },
     "metadata": {},
     "output_type": "display_data"
    }
   ],
   "execution_count": 8
  },
  {
   "metadata": {},
   "cell_type": "markdown",
   "source": "### Sociedad Hipotecaria Federal",
   "id": "1d9a33d7101455f1"
  },
  {
   "metadata": {
    "ExecuteTime": {
     "end_time": "2024-05-24T18:54:55.501068Z",
     "start_time": "2024-05-24T18:54:54.435492Z"
    }
   },
   "cell_type": "code",
   "source": [
    "urlshf1<-\"https://sniiv.sedatu.gob.mx/api/CuboAPI/GetFinanciamiento/2024,2024/0/0/organismo\"\n",
    "shf1<-consulta_api(urlshf1)\n",
    "str(shf1)"
   ],
   "id": "1668fe114220d5e2",
   "outputs": [
    {
     "name": "stdout",
     "output_type": "stream",
     "text": [
      "'data.frame':\t7 obs. of  4 variables:\n",
      " $ año      : int  0 0 0 0 0 0 0\n",
      " $ organismo: chr  \"FOVISSSTE\" \"INFONAVIT\" \"CONAVI\" \"SHF (FONDEO)\" ...\n",
      " $ acciones : int  7539 122916 70960 10718 73 17940 597\n",
      " $ monto    : num  6635441110 49122752565 2607253989 516392359 104228436 ...\n"
     ]
    }
   ],
   "execution_count": 12
  },
  {
   "metadata": {
    "ExecuteTime": {
     "end_time": "2024-05-24T18:55:35.745867Z",
     "start_time": "2024-05-24T18:55:35.725720Z"
    }
   },
   "cell_type": "code",
   "source": [
    " shf1 %>%\n",
    "  filter(organismo == \"SHF (FONDEO)\") %>%\n",
    "  select(acciones)"
   ],
   "id": "2e7f51d606e15b28",
   "outputs": [
    {
     "data": {
      "text/html": [
       "<table class=\"dataframe\">\n",
       "<caption>A data.frame: 1 × 1</caption>\n",
       "<thead>\n",
       "\t<tr><th scope=col>acciones</th></tr>\n",
       "\t<tr><th scope=col>&lt;int&gt;</th></tr>\n",
       "</thead>\n",
       "<tbody>\n",
       "\t<tr><td>10718</td></tr>\n",
       "</tbody>\n",
       "</table>\n"
      ],
      "text/markdown": "\nA data.frame: 1 × 1\n\n| acciones &lt;int&gt; |\n|---|\n| 10718 |\n\n",
      "text/latex": "A data.frame: 1 × 1\n\\begin{tabular}{l}\n acciones\\\\\n <int>\\\\\n\\hline\n\t 10718\\\\\n\\end{tabular}\n",
      "text/plain": [
       "  acciones\n",
       "1 10718   "
      ]
     },
     "metadata": {},
     "output_type": "display_data"
    }
   ],
   "execution_count": 14
  },
  {
   "metadata": {},
   "cell_type": "markdown",
   "source": "### Infonavit",
   "id": "ae22a03eb5d69b68"
  },
  {
   "metadata": {
    "ExecuteTime": {
     "end_time": "2024-05-24T18:56:28.809063Z",
     "start_time": "2024-05-24T18:56:27.138319Z"
    }
   },
   "cell_type": "code",
   "source": [
    "urlinfo<-\"https://sniiv.sedatu.gob.mx/api/CuboAPI/GetINFONAVIT/2024,2024/0/0/linea_credito,modalidad,esquema\"\n",
    "infonavit<-consulta_api(urlinfo)\n",
    "str(infonavit)"
   ],
   "id": "1d7666499e27254f",
   "outputs": [
    {
     "name": "stdout",
     "output_type": "stream",
     "text": [
      "'data.frame':\t16 obs. of  6 variables:\n",
      " $ linea_credito: chr  \"Linea II\" \"Linea II\" \"Linea II\" \"Linea IV\" ...\n",
      " $ año          : int  0 0 0 0 0 0 0 0 0 0 ...\n",
      " $ modalidad    : chr  \"Nueva\" \"Existente\" \"Nueva\" \"Ampliación y rehabilitación\" ...\n",
      " $ esquema      : chr  \"Apoyo infonavit\" \"Cofinavit\" \"Cofinavit\" \"Mejoravit infonavit\" ...\n",
      " $ acciones     : int  3579 960 3169 38327 218 2 2511 341 893 28366 ...\n",
      " $ monto        : num  0 792081203 2317690523 0 139267899 ...\n"
     ]
    }
   ],
   "execution_count": 15
  },
  {
   "metadata": {
    "ExecuteTime": {
     "end_time": "2024-05-24T18:56:47.051230Z",
     "start_time": "2024-05-24T18:56:47.037213Z"
    }
   },
   "cell_type": "code",
   "source": [
    "unique_inf <- unique(infonavit$linea_credito)\n",
    "unique_inf"
   ],
   "id": "b51c33d74d235485",
   "outputs": [
    {
     "data": {
      "text/html": [
       "<style>\n",
       ".list-inline {list-style: none; margin:0; padding: 0}\n",
       ".list-inline>li {display: inline-block}\n",
       ".list-inline>li:not(:last-child)::after {content: \"\\00b7\"; padding: 0 .5ex}\n",
       "</style>\n",
       "<ol class=list-inline><li>'Linea II'</li><li>'Linea IV'</li><li>'Linea V'</li><li>'Linea III'</li></ol>\n"
      ],
      "text/markdown": "1. 'Linea II'\n2. 'Linea IV'\n3. 'Linea V'\n4. 'Linea III'\n\n\n",
      "text/latex": "\\begin{enumerate*}\n\\item 'Linea II'\n\\item 'Linea IV'\n\\item 'Linea V'\n\\item 'Linea III'\n\\end{enumerate*}\n",
      "text/plain": [
       "[1] \"Linea II\"  \"Linea IV\"  \"Linea V\"   \"Linea III\""
      ]
     },
     "metadata": {},
     "output_type": "display_data"
    }
   ],
   "execution_count": 16
  },
  {
   "metadata": {
    "ExecuteTime": {
     "end_time": "2024-05-24T18:56:49.158930Z",
     "start_time": "2024-05-24T18:56:49.143505Z"
    }
   },
   "cell_type": "code",
   "source": [
    "unique_inf <- unique(infonavit$modalidad)\n",
    "unique_inf"
   ],
   "id": "38cf1fbb8af21295",
   "outputs": [
    {
     "data": {
      "text/html": [
       "<style>\n",
       ".list-inline {list-style: none; margin:0; padding: 0}\n",
       ".list-inline>li {display: inline-block}\n",
       ".list-inline>li:not(:last-child)::after {content: \"\\00b7\"; padding: 0 .5ex}\n",
       "</style>\n",
       "<ol class=list-inline><li>'Nueva'</li><li>'Existente'</li><li>'Ampliación y rehabilitación'</li><li>'Pago de pasivos'</li><li>'Con disponibilidad de terreno'</li><li>'Adquisición de suelo'</li><li>'Autoconstrucción'</li></ol>\n"
      ],
      "text/markdown": "1. 'Nueva'\n2. 'Existente'\n3. 'Ampliación y rehabilitación'\n4. 'Pago de pasivos'\n5. 'Con disponibilidad de terreno'\n6. 'Adquisición de suelo'\n7. 'Autoconstrucción'\n\n\n",
      "text/latex": "\\begin{enumerate*}\n\\item 'Nueva'\n\\item 'Existente'\n\\item 'Ampliación y rehabilitación'\n\\item 'Pago de pasivos'\n\\item 'Con disponibilidad de terreno'\n\\item 'Adquisición de suelo'\n\\item 'Autoconstrucción'\n\\end{enumerate*}\n",
      "text/plain": [
       "[1] \"Nueva\"                         \"Existente\"                    \n",
       "[3] \"Ampliación y rehabilitación\"   \"Pago de pasivos\"              \n",
       "[5] \"Con disponibilidad de terreno\" \"Adquisición de suelo\"         \n",
       "[7] \"Autoconstrucción\"             "
      ]
     },
     "metadata": {},
     "output_type": "display_data"
    }
   ],
   "execution_count": 17
  },
  {
   "metadata": {
    "ExecuteTime": {
     "end_time": "2024-05-24T18:59:34.348568Z",
     "start_time": "2024-05-24T18:59:34.329252Z"
    }
   },
   "cell_type": "code",
   "source": [
    "unique_inf <- unique(infonavit$esquema)\n",
    "unique_inf"
   ],
   "id": "1b2b067eb33cd42f",
   "outputs": [
    {
     "data": {
      "text/html": [
       "<style>\n",
       ".list-inline {list-style: none; margin:0; padding: 0}\n",
       ".list-inline>li {display: inline-block}\n",
       ".list-inline>li:not(:last-child)::after {content: \"\\00b7\"; padding: 0 .5ex}\n",
       "</style>\n",
       "<ol class=list-inline><li>'Apoyo infonavit'</li><li>'Cofinavit'</li><li>'Mejoravit infonavit'</li><li>'Tradicional'</li><li>'Infonavit total'</li><li>'ConstruYo infonavit'</li><li>'INFONAVIT MejOraSí'</li></ol>\n"
      ],
      "text/markdown": "1. 'Apoyo infonavit'\n2. 'Cofinavit'\n3. 'Mejoravit infonavit'\n4. 'Tradicional'\n5. 'Infonavit total'\n6. 'ConstruYo infonavit'\n7. 'INFONAVIT MejOraSí'\n\n\n",
      "text/latex": "\\begin{enumerate*}\n\\item 'Apoyo infonavit'\n\\item 'Cofinavit'\n\\item 'Mejoravit infonavit'\n\\item 'Tradicional'\n\\item 'Infonavit total'\n\\item 'ConstruYo infonavit'\n\\item 'INFONAVIT MejOraSí'\n\\end{enumerate*}\n",
      "text/plain": [
       "[1] \"Apoyo infonavit\"     \"Cofinavit\"           \"Mejoravit infonavit\"\n",
       "[4] \"Tradicional\"         \"Infonavit total\"     \"ConstruYo infonavit\"\n",
       "[7] \"INFONAVIT MejOraSí\" "
      ]
     },
     "metadata": {},
     "output_type": "display_data"
    }
   ],
   "execution_count": 25
  },
  {
   "metadata": {
    "ExecuteTime": {
     "end_time": "2024-05-24T18:57:23.919384Z",
     "start_time": "2024-05-24T18:57:23.859440Z"
    }
   },
   "cell_type": "code",
   "source": [
    "nuevaexist <- infonavit %>%\n",
    "  filter(linea_credito == \"Linea II\") %>%\n",
    "  filter(modalidad %in% c(\"Nueva\", \"Existente\")) %>%\n",
    "  group_by(esquema, modalidad) %>%\n",
    "  summarise(acciones = sum(acciones)) %>%\n",
    "  pivot_wider(names_from = modalidad, values_from = acciones) %>%\n",
    "  mutate(Existente = replace_na(Existente, 0),\n",
    "         Total = Nueva + Existente) %>%\n",
    "  janitor::adorn_totals()\n",
    "\n",
    "nuevaexist"
   ],
   "id": "a31242dcce9e2c42",
   "outputs": [
    {
     "name": "stderr",
     "output_type": "stream",
     "text": [
      "\u001B[1m\u001B[22m`summarise()` has grouped output by 'esquema'. You can override using the\n",
      "`.groups` argument.\n"
     ]
    },
    {
     "data": {
      "text/html": [
       "<table class=\"dataframe\">\n",
       "<caption>A tabyl: 5 × 4</caption>\n",
       "<thead>\n",
       "\t<tr><th scope=col>esquema</th><th scope=col>Nueva</th><th scope=col>Existente</th><th scope=col>Total</th></tr>\n",
       "\t<tr><th scope=col>&lt;chr&gt;</th><th scope=col>&lt;int&gt;</th><th scope=col>&lt;int&gt;</th><th scope=col>&lt;int&gt;</th></tr>\n",
       "</thead>\n",
       "<tbody>\n",
       "\t<tr><td>Apoyo infonavit</td><td> 3579</td><td>    0</td><td> 3579</td></tr>\n",
       "\t<tr><td>Cofinavit      </td><td> 3169</td><td>  960</td><td> 4129</td></tr>\n",
       "\t<tr><td>Infonavit total</td><td> 3846</td><td> 1542</td><td> 5388</td></tr>\n",
       "\t<tr><td>Tradicional    </td><td>27215</td><td>28366</td><td>55581</td></tr>\n",
       "\t<tr><td>Total          </td><td>37809</td><td>30868</td><td>68677</td></tr>\n",
       "</tbody>\n",
       "</table>\n"
      ],
      "text/markdown": "\nA tabyl: 5 × 4\n\n| esquema &lt;chr&gt; | Nueva &lt;int&gt; | Existente &lt;int&gt; | Total &lt;int&gt; |\n|---|---|---|---|\n| Apoyo infonavit |  3579 |     0 |  3579 |\n| Cofinavit       |  3169 |   960 |  4129 |\n| Infonavit total |  3846 |  1542 |  5388 |\n| Tradicional     | 27215 | 28366 | 55581 |\n| Total           | 37809 | 30868 | 68677 |\n\n",
      "text/latex": "A tabyl: 5 × 4\n\\begin{tabular}{llll}\n esquema & Nueva & Existente & Total\\\\\n <chr> & <int> & <int> & <int>\\\\\n\\hline\n\t Apoyo infonavit &  3579 &     0 &  3579\\\\\n\t Cofinavit       &  3169 &   960 &  4129\\\\\n\t Infonavit total &  3846 &  1542 &  5388\\\\\n\t Tradicional     & 27215 & 28366 & 55581\\\\\n\t Total           & 37809 & 30868 & 68677\\\\\n\\end{tabular}\n",
      "text/plain": [
       "  esquema         Nueva Existente Total\n",
       "1 Apoyo infonavit  3579     0      3579\n",
       "2 Cofinavit        3169   960      4129\n",
       "3 Infonavit total  3846  1542      5388\n",
       "4 Tradicional     27215 28366     55581\n",
       "5 Total           37809 30868     68677"
      ]
     },
     "metadata": {},
     "output_type": "display_data"
    }
   ],
   "execution_count": 18
  },
  {
   "metadata": {
    "ExecuteTime": {
     "end_time": "2024-05-24T18:59:02.940958Z",
     "start_time": "2024-05-24T18:59:02.922868Z"
    }
   },
   "cell_type": "code",
   "source": [
    "crediterreno <- infonavit %>%\n",
    "  filter(linea_credito == \"Linea II\") %>%\n",
    "  filter(modalidad %in% c(\"Adquisición de suelo\")) %>%\n",
    "  select(acciones)\n",
    "crediterreno"
   ],
   "id": "e0e861757981b14b",
   "outputs": [
    {
     "data": {
      "text/html": [
       "<table class=\"dataframe\">\n",
       "<caption>A data.frame: 1 × 1</caption>\n",
       "<thead>\n",
       "\t<tr><th scope=col>acciones</th></tr>\n",
       "\t<tr><th scope=col>&lt;int&gt;</th></tr>\n",
       "</thead>\n",
       "<tbody>\n",
       "\t<tr><td>893</td></tr>\n",
       "</tbody>\n",
       "</table>\n"
      ],
      "text/markdown": "\nA data.frame: 1 × 1\n\n| acciones &lt;int&gt; |\n|---|\n| 893 |\n\n",
      "text/latex": "A data.frame: 1 × 1\n\\begin{tabular}{l}\n acciones\\\\\n <int>\\\\\n\\hline\n\t 893\\\\\n\\end{tabular}\n",
      "text/plain": [
       "  acciones\n",
       "1 893     "
      ]
     },
     "metadata": {},
     "output_type": "display_data"
    }
   ],
   "execution_count": 24
  },
  {
   "metadata": {
    "ExecuteTime": {
     "end_time": "2024-05-24T19:02:11.405750Z",
     "start_time": "2024-05-24T19:02:11.386523Z"
    }
   },
   "cell_type": "code",
   "source": [
    "linea_3 <- infonavit %>%\n",
    "  filter(linea_credito == \"Linea III\") %>%\n",
    "  filter(esquema %in% c(\"ConstruYo infonavit\", \"Tradicional\")) %>%\n",
    "\n",
    "  summarise(acciones = sum(acciones))\n",
    "\n",
    "linea_3"
   ],
   "id": "4b5f1f5e4e32cd57",
   "outputs": [
    {
     "data": {
      "text/html": [
       "<table class=\"dataframe\">\n",
       "<caption>A data.frame: 1 × 1</caption>\n",
       "<thead>\n",
       "\t<tr><th scope=col>acciones</th></tr>\n",
       "\t<tr><th scope=col>&lt;int&gt;</th></tr>\n",
       "</thead>\n",
       "<tbody>\n",
       "\t<tr><td>2858</td></tr>\n",
       "</tbody>\n",
       "</table>\n"
      ],
      "text/markdown": "\nA data.frame: 1 × 1\n\n| acciones &lt;int&gt; |\n|---|\n| 2858 |\n\n",
      "text/latex": "A data.frame: 1 × 1\n\\begin{tabular}{l}\n acciones\\\\\n <int>\\\\\n\\hline\n\t 2858\\\\\n\\end{tabular}\n",
      "text/plain": [
       "  acciones\n",
       "1 2858    "
      ]
     },
     "metadata": {},
     "output_type": "display_data"
    }
   ],
   "execution_count": 30
  },
  {
   "metadata": {
    "ExecuteTime": {
     "end_time": "2024-05-24T19:03:48.570391Z",
     "start_time": "2024-05-24T19:03:48.536297Z"
    }
   },
   "cell_type": "code",
   "source": [
    "linea_4 <- infonavit %>%\n",
    "  filter(linea_credito == \"Linea IV\") %>%\n",
    "  filter(modalidad %in% c(\"Ampliación y rehabilitación\", \"Autoconstrucción\")) %>%\n",
    "  group_by(esquema) %>%\n",
    "  summarise(acciones = sum(acciones))%>%\n",
    "janitor::adorn_totals()\n",
    "linea_4"
   ],
   "id": "b8fdad7ba0719cea",
   "outputs": [
    {
     "data": {
      "text/html": [
       "<table class=\"dataframe\">\n",
       "<caption>A tabyl: 4 × 2</caption>\n",
       "<thead>\n",
       "\t<tr><th scope=col>esquema</th><th scope=col>acciones</th></tr>\n",
       "\t<tr><th scope=col>&lt;chr&gt;</th><th scope=col>&lt;int&gt;</th></tr>\n",
       "</thead>\n",
       "<tbody>\n",
       "\t<tr><td>ConstruYo infonavit</td><td>   86</td></tr>\n",
       "\t<tr><td>INFONAVIT MejOraSí </td><td>11855</td></tr>\n",
       "\t<tr><td>Mejoravit infonavit</td><td>38327</td></tr>\n",
       "\t<tr><td>Total              </td><td>50268</td></tr>\n",
       "</tbody>\n",
       "</table>\n"
      ],
      "text/markdown": "\nA tabyl: 4 × 2\n\n| esquema &lt;chr&gt; | acciones &lt;int&gt; |\n|---|---|\n| ConstruYo infonavit |    86 |\n| INFONAVIT MejOraSí  | 11855 |\n| Mejoravit infonavit | 38327 |\n| Total               | 50268 |\n\n",
      "text/latex": "A tabyl: 4 × 2\n\\begin{tabular}{ll}\n esquema & acciones\\\\\n <chr> & <int>\\\\\n\\hline\n\t ConstruYo infonavit &    86\\\\\n\t INFONAVIT MejOraSí  & 11855\\\\\n\t Mejoravit infonavit & 38327\\\\\n\t Total               & 50268\\\\\n\\end{tabular}\n",
      "text/plain": [
       "  esquema             acciones\n",
       "1 ConstruYo infonavit    86   \n",
       "2 INFONAVIT MejOraSí  11855   \n",
       "3 Mejoravit infonavit 38327   \n",
       "4 Total               50268   "
      ]
     },
     "metadata": {},
     "output_type": "display_data"
    }
   ],
   "execution_count": 32
  },
  {
   "metadata": {
    "ExecuteTime": {
     "end_time": "2024-05-24T19:04:21.635035Z",
     "start_time": "2024-05-24T19:04:21.598685Z"
    }
   },
   "cell_type": "code",
   "source": [
    "linea_5 <- infonavit %>%\n",
    "  filter(linea_credito == \"Linea V\") %>%\n",
    "  group_by(esquema) %>%\n",
    "  summarise(acciones = sum(acciones)) %>%\n",
    "  adorn_totals()\n",
    "\n",
    "linea_5"
   ],
   "id": "d4b345a85eefa562",
   "outputs": [
    {
     "data": {
      "text/html": [
       "<table class=\"dataframe\">\n",
       "<caption>A tabyl: 2 × 2</caption>\n",
       "<thead>\n",
       "\t<tr><th scope=col>esquema</th><th scope=col>acciones</th></tr>\n",
       "\t<tr><th scope=col>&lt;chr&gt;</th><th scope=col>&lt;int&gt;</th></tr>\n",
       "</thead>\n",
       "<tbody>\n",
       "\t<tr><td>Tradicional</td><td>220</td></tr>\n",
       "\t<tr><td>Total      </td><td>220</td></tr>\n",
       "</tbody>\n",
       "</table>\n"
      ],
      "text/markdown": "\nA tabyl: 2 × 2\n\n| esquema &lt;chr&gt; | acciones &lt;int&gt; |\n|---|---|\n| Tradicional | 220 |\n| Total       | 220 |\n\n",
      "text/latex": "A tabyl: 2 × 2\n\\begin{tabular}{ll}\n esquema & acciones\\\\\n <chr> & <int>\\\\\n\\hline\n\t Tradicional & 220\\\\\n\t Total       & 220\\\\\n\\end{tabular}\n",
      "text/plain": [
       "  esquema     acciones\n",
       "1 Tradicional 220     \n",
       "2 Total       220     "
      ]
     },
     "metadata": {},
     "output_type": "display_data"
    }
   ],
   "execution_count": 33
  },
  {
   "metadata": {},
   "cell_type": "markdown",
   "source": "### Conavi",
   "id": "bcdfb40fe5098989"
  },
  {
   "metadata": {
    "ExecuteTime": {
     "end_time": "2024-05-24T19:05:23.683928Z",
     "start_time": "2024-05-24T19:05:23.461416Z"
    }
   },
   "cell_type": "code",
   "source": [
    "\n",
    "url<-\"https://sniiv.sedatu.gob.mx/api/CuboAPI/GetCONAVI/2024,2024/0/0/programa_presupuestal,modalidad,mes\"\n",
    "conavi<-consulta_api(url)\n",
    "str(conavi)"
   ],
   "id": "2b58561e1a7c5733",
   "outputs": [
    {
     "name": "stdout",
     "output_type": "stream",
     "text": [
      "'data.frame':\t6 obs. of  6 variables:\n",
      " $ año                  : int  0 0 0 0 0 0\n",
      " $ mes                  : chr  \"febrero\" \"abril\" \"abril\" \"marzo\" ...\n",
      " $ modalidad            : chr  \"Mejoramiento\" \"Mejoramiento\" \"Reconstrucción\" \"Vivienda nueva\" ...\n",
      " $ programa_presupuestal: chr  \"Programa de Vivienda Social (Subsidio 100% CONAVI)\" \"Programa de Vivienda Social (Subsidio 100% CONAVI)\" \"Programa de Vivienda Social (Subsidio 100% CONAVI)\" \"Programa de Vivienda Social (Subsidio 100% CONAVI)\" ...\n",
      " $ acciones             : int  70620 6 1605 340 1183 6\n",
      " $ monto                : num  2471700000 474855 141591524 135553989 251269440 ...\n"
     ]
    }
   ],
   "execution_count": 35
  },
  {
   "metadata": {
    "ExecuteTime": {
     "end_time": "2024-05-24T19:05:38.811526Z",
     "start_time": "2024-05-24T19:05:38.794431Z"
    }
   },
   "cell_type": "code",
   "source": [
    "unique_conavi <- unique(conavi$programa_presupuestal)\n",
    "unique_conavi"
   ],
   "id": "3c61d1aa57bb3816",
   "outputs": [
    {
     "data": {
      "text/html": [
       "'Programa de Vivienda Social (Subsidio 100% CONAVI)'"
      ],
      "text/markdown": "'Programa de Vivienda Social (Subsidio 100% CONAVI)'",
      "text/latex": "'Programa de Vivienda Social (Subsidio 100\\% CONAVI)'",
      "text/plain": [
       "[1] \"Programa de Vivienda Social (Subsidio 100% CONAVI)\""
      ]
     },
     "metadata": {},
     "output_type": "display_data"
    }
   ],
   "execution_count": 36
  },
  {
   "metadata": {
    "ExecuteTime": {
     "end_time": "2024-05-24T19:05:49.276940Z",
     "start_time": "2024-05-24T19:05:49.257647Z"
    }
   },
   "cell_type": "code",
   "source": [
    "\n",
    "unique_conavi <- unique(conavi$modalidad)\n",
    "unique_conavi"
   ],
   "id": "5325b8c20ab65131",
   "outputs": [
    {
     "data": {
      "text/html": [
       "<style>\n",
       ".list-inline {list-style: none; margin:0; padding: 0}\n",
       ".list-inline>li {display: inline-block}\n",
       ".list-inline>li:not(:last-child)::after {content: \"\\00b7\"; padding: 0 .5ex}\n",
       "</style>\n",
       "<ol class=list-inline><li>'Mejoramiento'</li><li>'Reconstrucción'</li><li>'Vivienda nueva'</li><li>'Ampliación'</li></ol>\n"
      ],
      "text/markdown": "1. 'Mejoramiento'\n2. 'Reconstrucción'\n3. 'Vivienda nueva'\n4. 'Ampliación'\n\n\n",
      "text/latex": "\\begin{enumerate*}\n\\item 'Mejoramiento'\n\\item 'Reconstrucción'\n\\item 'Vivienda nueva'\n\\item 'Ampliación'\n\\end{enumerate*}\n",
      "text/plain": [
       "[1] \"Mejoramiento\"   \"Reconstrucción\" \"Vivienda nueva\" \"Ampliación\"    "
      ]
     },
     "metadata": {},
     "output_type": "display_data"
    }
   ],
   "execution_count": 39
  },
  {
   "metadata": {
    "ExecuteTime": {
     "end_time": "2024-05-24T19:05:44.227586Z",
     "start_time": "2024-05-24T19:05:44.186496Z"
    }
   },
   "cell_type": "code",
   "source": [
    "conavi1 <- conavi %>%\n",
    "  filter(modalidad %in% c(\"Mejoramiento\", \"Vivienda nueva\")) %>%\n",
    "  filter(mes %in% c(\"febrero\", \"marzo\")) %>%\n",
    "  group_by(programa_presupuestal) %>%\n",
    "  select(acciones)%>%\n",
    "  janitor::adorn_totals()\n",
    "\n",
    "conavi1"
   ],
   "id": "3772ab2a066d41df",
   "outputs": [
    {
     "name": "stderr",
     "output_type": "stream",
     "text": [
      "\u001B[1m\u001B[22mAdding missing grouping variables: `programa_presupuestal`\n"
     ]
    },
    {
     "data": {
      "text/html": [
       "<table class=\"dataframe\">\n",
       "<caption>A tabyl: 3 × 2</caption>\n",
       "<thead>\n",
       "\t<tr><th scope=col>programa_presupuestal</th><th scope=col>acciones</th></tr>\n",
       "\t<tr><th scope=col>&lt;chr&gt;</th><th scope=col>&lt;int&gt;</th></tr>\n",
       "</thead>\n",
       "<tbody>\n",
       "\t<tr><td>Programa de Vivienda Social (Subsidio 100% CONAVI)</td><td>70620</td></tr>\n",
       "\t<tr><td>Programa de Vivienda Social (Subsidio 100% CONAVI)</td><td>  340</td></tr>\n",
       "\t<tr><td>Total                                             </td><td>70960</td></tr>\n",
       "</tbody>\n",
       "</table>\n"
      ],
      "text/markdown": "\nA tabyl: 3 × 2\n\n| programa_presupuestal &lt;chr&gt; | acciones &lt;int&gt; |\n|---|---|\n| Programa de Vivienda Social (Subsidio 100% CONAVI) | 70620 |\n| Programa de Vivienda Social (Subsidio 100% CONAVI) |   340 |\n| Total                                              | 70960 |\n\n",
      "text/latex": "A tabyl: 3 × 2\n\\begin{tabular}{ll}\n programa\\_presupuestal & acciones\\\\\n <chr> & <int>\\\\\n\\hline\n\t Programa de Vivienda Social (Subsidio 100\\% CONAVI) & 70620\\\\\n\t Programa de Vivienda Social (Subsidio 100\\% CONAVI) &   340\\\\\n\t Total                                              & 70960\\\\\n\\end{tabular}\n",
      "text/plain": [
       "  programa_presupuestal                              acciones\n",
       "1 Programa de Vivienda Social (Subsidio 100% CONAVI) 70620   \n",
       "2 Programa de Vivienda Social (Subsidio 100% CONAVI)   340   \n",
       "3 Total                                              70960   "
      ]
     },
     "metadata": {},
     "output_type": "display_data"
    }
   ],
   "execution_count": 38
  },
  {
   "metadata": {
    "ExecuteTime": {
     "end_time": "2024-05-24T19:09:01.340451Z",
     "start_time": "2024-05-24T19:09:01.187355Z"
    }
   },
   "cell_type": "code",
   "source": [
    "#------------------ CONAVI SIESCO\n",
    "\n",
    "url<-\"https://siesco.conavi.gob.mx/SNIIV.svc/getCONAVI/2024,2024/0/0/programa_presupuestal,modalidad_anterior,mes\"\n",
    "conavi<-consulta_api(url)\n",
    "str(conavi)"
   ],
   "id": "22fa7b892810f94e",
   "outputs": [
    {
     "name": "stdout",
     "output_type": "stream",
     "text": [
      "'data.frame':\t6 obs. of  6 variables:\n",
      " $ acciones             : int  70620 6 1605 340 1183 6\n",
      " $ año                  : int  0 0 0 0 0 0\n",
      " $ mes                  : chr  \"febrero\" \"abril\" \"abril\" \"marzo\" ...\n",
      " $ modalidad_anterior   : chr  \"Mejoramiento\" \"Mejoramiento\" \"Reconstrucción\" \"Vivienda nueva\" ...\n",
      " $ monto                : num  2471700000 474855 141591524 135553989 251269440 ...\n",
      " $ programa_presupuestal: chr  \"Programa de Vivienda Social (Subsidio 100% Conavi)\" \"Programa de Vivienda Social (Subsidio 100% Conavi)\" \"Programa de Vivienda Social (Subsidio 100% Conavi)\" \"Programa de Vivienda Social (Subsidio 100% Conavi)\" ...\n"
     ]
    }
   ],
   "execution_count": 50
  },
  {
   "metadata": {
    "ExecuteTime": {
     "end_time": "2024-05-24T19:09:03.209244Z",
     "start_time": "2024-05-24T19:09:03.190524Z"
    }
   },
   "cell_type": "code",
   "source": [
    "unique_conavi <- unique(conavi$programa_presupuestal)\n",
    "unique_conavi"
   ],
   "id": "c1bc3b2d2bc3e9c6",
   "outputs": [
    {
     "data": {
      "text/html": [
       "'Programa de Vivienda Social (Subsidio 100% Conavi)'"
      ],
      "text/markdown": "'Programa de Vivienda Social (Subsidio 100% Conavi)'",
      "text/latex": "'Programa de Vivienda Social (Subsidio 100\\% Conavi)'",
      "text/plain": [
       "[1] \"Programa de Vivienda Social (Subsidio 100% Conavi)\""
      ]
     },
     "metadata": {},
     "output_type": "display_data"
    }
   ],
   "execution_count": 51
  },
  {
   "metadata": {
    "ExecuteTime": {
     "end_time": "2024-05-24T19:09:28.846172Z",
     "start_time": "2024-05-24T19:09:28.830929Z"
    }
   },
   "cell_type": "code",
   "source": [
    "unique_conavi <- unique(conavi$modalidad_anterior)\n",
    "unique_conavi"
   ],
   "id": "958149ef1976738a",
   "outputs": [
    {
     "data": {
      "text/html": [
       "<style>\n",
       ".list-inline {list-style: none; margin:0; padding: 0}\n",
       ".list-inline>li {display: inline-block}\n",
       ".list-inline>li:not(:last-child)::after {content: \"\\00b7\"; padding: 0 .5ex}\n",
       "</style>\n",
       "<ol class=list-inline><li>'Mejoramiento'</li><li>'Reconstrucción'</li><li>'Vivienda nueva'</li><li>'Ampliación'</li></ol>\n"
      ],
      "text/markdown": "1. 'Mejoramiento'\n2. 'Reconstrucción'\n3. 'Vivienda nueva'\n4. 'Ampliación'\n\n\n",
      "text/latex": "\\begin{enumerate*}\n\\item 'Mejoramiento'\n\\item 'Reconstrucción'\n\\item 'Vivienda nueva'\n\\item 'Ampliación'\n\\end{enumerate*}\n",
      "text/plain": [
       "[1] \"Mejoramiento\"   \"Reconstrucción\" \"Vivienda nueva\" \"Ampliación\"    "
      ]
     },
     "metadata": {},
     "output_type": "display_data"
    }
   ],
   "execution_count": 54
  },
  {
   "metadata": {
    "ExecuteTime": {
     "end_time": "2024-05-24T19:09:38.618887Z",
     "start_time": "2024-05-24T19:09:38.575464Z"
    }
   },
   "cell_type": "code",
   "source": [
    "siesco <- conavi %>%\n",
    "  filter(modalidad_anterior %in% c(\"Mejoramiento\", \"Vivienda nueva\")) %>%\n",
    "  filter(mes %in% c(\"febrero\", \"marzo\")) %>%\n",
    "  group_by(programa_presupuestal) %>%\n",
    "  select(acciones)%>%\n",
    "  janitor::adorn_totals()\n",
    "\n",
    "siesco"
   ],
   "id": "7b408f055ec115fc",
   "outputs": [
    {
     "name": "stderr",
     "output_type": "stream",
     "text": [
      "\u001B[1m\u001B[22mAdding missing grouping variables: `programa_presupuestal`\n"
     ]
    },
    {
     "data": {
      "text/html": [
       "<table class=\"dataframe\">\n",
       "<caption>A tabyl: 3 × 2</caption>\n",
       "<thead>\n",
       "\t<tr><th scope=col>programa_presupuestal</th><th scope=col>acciones</th></tr>\n",
       "\t<tr><th scope=col>&lt;chr&gt;</th><th scope=col>&lt;int&gt;</th></tr>\n",
       "</thead>\n",
       "<tbody>\n",
       "\t<tr><td>Programa de Vivienda Social (Subsidio 100% Conavi)</td><td>70620</td></tr>\n",
       "\t<tr><td>Programa de Vivienda Social (Subsidio 100% Conavi)</td><td>  340</td></tr>\n",
       "\t<tr><td>Total                                             </td><td>70960</td></tr>\n",
       "</tbody>\n",
       "</table>\n"
      ],
      "text/markdown": "\nA tabyl: 3 × 2\n\n| programa_presupuestal &lt;chr&gt; | acciones &lt;int&gt; |\n|---|---|\n| Programa de Vivienda Social (Subsidio 100% Conavi) | 70620 |\n| Programa de Vivienda Social (Subsidio 100% Conavi) |   340 |\n| Total                                              | 70960 |\n\n",
      "text/latex": "A tabyl: 3 × 2\n\\begin{tabular}{ll}\n programa\\_presupuestal & acciones\\\\\n <chr> & <int>\\\\\n\\hline\n\t Programa de Vivienda Social (Subsidio 100\\% Conavi) & 70620\\\\\n\t Programa de Vivienda Social (Subsidio 100\\% Conavi) &   340\\\\\n\t Total                                              & 70960\\\\\n\\end{tabular}\n",
      "text/plain": [
       "  programa_presupuestal                              acciones\n",
       "1 Programa de Vivienda Social (Subsidio 100% Conavi) 70620   \n",
       "2 Programa de Vivienda Social (Subsidio 100% Conavi)   340   \n",
       "3 Total                                              70960   "
      ]
     },
     "metadata": {},
     "output_type": "display_data"
    }
   ],
   "execution_count": 55
  }
 ],
 "metadata": {
  "kernelspec": {
   "display_name": "R",
   "language": "R",
   "name": "ir"
  },
  "language_info": {
   "codemirror_mode": {
    "name": "ipython",
    "version": 2
   },
   "file_extension": ".py",
   "mimetype": "text/x-python",
   "name": "python",
   "nbconvert_exporter": "python",
   "pygments_lexer": "ipython2",
   "version": "2.7.6"
  }
 },
 "nbformat": 4,
 "nbformat_minor": 5
}
